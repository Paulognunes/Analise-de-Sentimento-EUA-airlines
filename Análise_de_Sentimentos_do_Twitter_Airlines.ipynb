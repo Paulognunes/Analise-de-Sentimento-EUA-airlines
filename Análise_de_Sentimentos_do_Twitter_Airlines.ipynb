{
 "cells": [
  {
   "cell_type": "code",
   "execution_count": 2,
   "metadata": {
    "id": "CjWTH8vj6Srs"
   },
   "outputs": [],
   "source": [
    "import pandas as pd\n",
    "import numpy as np\n",
    "import matplotlib.pyplot as plt\n",
    "import re"
   ]
  },
  {
   "cell_type": "code",
   "execution_count": 3,
   "metadata": {
    "colab": {
     "base_uri": "https://localhost:8080/"
    },
    "id": "usYIzMphln-U",
    "outputId": "8f0a8f79-8ca2-48a1-952e-3fbbd01872bf"
   },
   "outputs": [
    {
     "name": "stderr",
     "output_type": "stream",
     "text": [
      "[nltk_data] Downloading package punkt to\n",
      "[nltk_data]     C:\\Users\\Ronan\\AppData\\Roaming\\nltk_data...\n",
      "[nltk_data]   Package punkt is already up-to-date!\n",
      "[nltk_data] Downloading package stopwords to\n",
      "[nltk_data]     C:\\Users\\Ronan\\AppData\\Roaming\\nltk_data...\n",
      "[nltk_data]   Package stopwords is already up-to-date!\n",
      "[nltk_data] Downloading package wordnet to\n",
      "[nltk_data]     C:\\Users\\Ronan\\AppData\\Roaming\\nltk_data...\n",
      "[nltk_data]   Package wordnet is already up-to-date!\n",
      "[nltk_data] Downloading package rslp to\n",
      "[nltk_data]     C:\\Users\\Ronan\\AppData\\Roaming\\nltk_data...\n",
      "[nltk_data]   Package rslp is already up-to-date!\n"
     ]
    }
   ],
   "source": [
    "import nltk\n",
    "nltk.download('punkt')\n",
    "nltk.download('stopwords')\n",
    "nltk.download('wordnet')\n",
    "nltk.download('rslp')\n",
    "from nltk.corpus import stopwords\n",
    "from nltk.stem import SnowballStemmer\n",
    "from nltk.stem import PorterStemmer\n",
    "from nltk.stem import WordNetLemmatizer\n",
    "from nltk.tokenize import TweetTokenizer\n",
    "from sklearn.model_selection import train_test_split"
   ]
  },
  {
   "cell_type": "code",
   "execution_count": 4,
   "metadata": {
    "id": "5auWECaqHVrC"
   },
   "outputs": [],
   "source": [
    "%%capture\n",
    "!pip install contractions\n",
    "import contractions"
   ]
  },
  {
   "cell_type": "code",
   "execution_count": 5,
   "metadata": {
    "id": "sPUP6m12p77q"
   },
   "outputs": [],
   "source": [
    "plt.style.use('seaborn-pastel')"
   ]
  },
  {
   "cell_type": "markdown",
   "metadata": {
    "id": "NubEybuM1lJw"
   },
   "source": [
    "+ Visão geral do DataFrame"
   ]
  },
  {
   "cell_type": "code",
   "execution_count": 6,
   "metadata": {
    "colab": {
     "base_uri": "https://localhost:8080/",
     "height": 204
    },
    "id": "NKoZp1hF2Tvt",
    "outputId": "e43c1c4c-93c2-4cf2-d6a1-e59a4bc694ba"
   },
   "outputs": [
    {
     "data": {
      "text/html": [
       "<div>\n",
       "<style scoped>\n",
       "    .dataframe tbody tr th:only-of-type {\n",
       "        vertical-align: middle;\n",
       "    }\n",
       "\n",
       "    .dataframe tbody tr th {\n",
       "        vertical-align: top;\n",
       "    }\n",
       "\n",
       "    .dataframe thead th {\n",
       "        text-align: right;\n",
       "    }\n",
       "</style>\n",
       "<table border=\"1\" class=\"dataframe\">\n",
       "  <thead>\n",
       "    <tr style=\"text-align: right;\">\n",
       "      <th></th>\n",
       "      <th>airline_sentiment</th>\n",
       "      <th>text</th>\n",
       "    </tr>\n",
       "  </thead>\n",
       "  <tbody>\n",
       "    <tr>\n",
       "      <th>0</th>\n",
       "      <td>neutral</td>\n",
       "      <td>@VirginAmerica What @dhepburn said.</td>\n",
       "    </tr>\n",
       "    <tr>\n",
       "      <th>1</th>\n",
       "      <td>positive</td>\n",
       "      <td>@VirginAmerica plus you've added commercials t...</td>\n",
       "    </tr>\n",
       "    <tr>\n",
       "      <th>2</th>\n",
       "      <td>neutral</td>\n",
       "      <td>@VirginAmerica I didn't today... Must mean I n...</td>\n",
       "    </tr>\n",
       "    <tr>\n",
       "      <th>3</th>\n",
       "      <td>negative</td>\n",
       "      <td>@VirginAmerica it's really aggressive to blast...</td>\n",
       "    </tr>\n",
       "    <tr>\n",
       "      <th>4</th>\n",
       "      <td>negative</td>\n",
       "      <td>@VirginAmerica and it's a really big bad thing...</td>\n",
       "    </tr>\n",
       "  </tbody>\n",
       "</table>\n",
       "</div>"
      ],
      "text/plain": [
       "  airline_sentiment                                               text\n",
       "0           neutral                @VirginAmerica What @dhepburn said.\n",
       "1          positive  @VirginAmerica plus you've added commercials t...\n",
       "2           neutral  @VirginAmerica I didn't today... Must mean I n...\n",
       "3          negative  @VirginAmerica it's really aggressive to blast...\n",
       "4          negative  @VirginAmerica and it's a really big bad thing..."
      ]
     },
     "execution_count": 6,
     "metadata": {},
     "output_type": "execute_result"
    }
   ],
   "source": [
    "df = pd.read_csv('Tweets.csv', usecols=['airline_sentiment', 'text'])\n",
    "df.head(5)"
   ]
  },
  {
   "cell_type": "markdown",
   "metadata": {
    "id": "SL-lYbKaoCTc"
   },
   "source": [
    "+ Verificando a distribuição dos dados."
   ]
  },
  {
   "cell_type": "code",
   "execution_count": 7,
   "metadata": {
    "colab": {
     "base_uri": "https://localhost:8080/"
    },
    "id": "xfxVqFstoBF9",
    "outputId": "2dd1840d-c7b3-4bd8-fef8-ea68e95ce566"
   },
   "outputs": [
    {
     "data": {
      "text/plain": [
       "negative    9178\n",
       "neutral     3099\n",
       "positive    2363\n",
       "Name: airline_sentiment, dtype: int64"
      ]
     },
     "execution_count": 7,
     "metadata": {},
     "output_type": "execute_result"
    }
   ],
   "source": [
    "df.airline_sentiment.value_counts()"
   ]
  },
  {
   "cell_type": "code",
   "execution_count": 8,
   "metadata": {
    "colab": {
     "base_uri": "https://localhost:8080/",
     "height": 316
    },
    "id": "y9-einNnodC-",
    "outputId": "ca5a3829-e7f9-43be-ba9b-1e729faa9be9"
   },
   "outputs": [
    {
     "data": {
      "text/plain": [
       "<AxesSubplot:>"
      ]
     },
     "execution_count": 8,
     "metadata": {},
     "output_type": "execute_result"
    },
    {
     "data": {
      "image/png": "[encoded data removed]",
      "text/plain": [
       "<Figure size 432x288 with 1 Axes>"
      ]
     },
     "metadata": {
      "needs_background": "light"
     },
     "output_type": "display_data"
    }
   ],
   "source": [
    "df.airline_sentiment.value_counts().plot(kind='bar')"
   ]
  },
  {
   "cell_type": "markdown",
   "metadata": {
    "id": "hU4YejItowub"
   },
   "source": [
    "+ Os dados estão desbalanceados. Requerendo um processo de oversampling e/ou undersampling.\n",
    "+ Primeiramente, aplicaremos um processo de transformação dos dados.\n",
    "  - A classe com valor `negative` receberá o valor -1;\n",
    "  - A classe `neutral` receberá o valor 0; e\n",
    "  - A classe `positive` receberá o valor 1."
   ]
  },
  {
   "cell_type": "code",
   "execution_count": 9,
   "metadata": {
    "id": "L6kCtT2VFBh0"
   },
   "outputs": [],
   "source": [
    "condlist = [\n",
    "  df.airline_sentiment == 'negative',\n",
    "  df.airline_sentiment == 'neutral',\n",
    "  df.airline_sentiment == 'positive'\n",
    "]\n",
    "\n",
    "choicelist = [-1, 0, 1]\n",
    "\n",
    "df.airline_sentiment = np.select(condlist, choicelist, default=2)"
   ]
  },
  {
   "cell_type": "code",
   "execution_count": 10,
   "metadata": {
    "colab": {
     "base_uri": "https://localhost:8080/"
    },
    "id": "fKYadtgRzwh1",
    "outputId": "30cbb95b-1c29-4b87-9852-aa81f6771248"
   },
   "outputs": [
    {
     "name": "stdout",
     "output_type": "stream",
     "text": [
      "neg: 9178\n",
      "neu: 3099\n",
      "pos: 2363\n"
     ]
    }
   ],
   "source": [
    "neg, neu, pos = df.airline_sentiment.value_counts()\n",
    "print('neg:', neg)\n",
    "print('neu:', neu)\n",
    "print('pos:', pos)"
   ]
  },
  {
   "cell_type": "code",
   "execution_count": 11,
   "metadata": {
    "id": "Dp4Rk0IswdCI"
   },
   "outputs": [],
   "source": [
    "# Separação do DataFrame em classes distintas\n",
    "df_negative = df[df['airline_sentiment'] == -1]\n",
    "df_neutral  = df[df['airline_sentiment'] ==  0]\n",
    "df_positive = df[df['airline_sentiment'] ==  1]\n",
    "\n",
    "# Undersampling nas classes negatives e positivas\n",
    "df_negative_under = df_negative.sample(pos)\n",
    "df_neutral_under  = df_neutral.sample(pos)\n",
    "\n",
    "# Junção dos 3 DataFrames em um único\n",
    "df_under = pd.concat([df_negative_under, df_neutral_under, df_positive],\n",
    "                     axis=0)"
   ]
  },
  {
   "cell_type": "code",
   "execution_count": 12,
   "metadata": {
    "colab": {
     "base_uri": "https://localhost:8080/",
     "height": 282
    },
    "id": "E5lxhPm50QYT",
    "outputId": "13e56b45-a1bc-446a-9ffb-a6c00c67f877"
   },
   "outputs": [
    {
     "data": {
      "text/plain": [
       "<AxesSubplot:>"
      ]
     },
     "execution_count": 12,
     "metadata": {},
     "output_type": "execute_result"
    },
    {
     "data": {
      "image/png": "[encoded data removed]",
      "text/plain": [
       "<Figure size 432x288 with 1 Axes>"
      ]
     },
     "metadata": {
      "needs_background": "light"
     },
     "output_type": "display_data"
    }
   ],
   "source": [
    "df_under.airline_sentiment.value_counts().plot(kind='bar')"
   ]
  },
  {
   "cell_type": "code",
   "execution_count": 13,
   "metadata": {
    "id": "FhiBwVE31C3Z"
   },
   "outputs": [],
   "source": [
    "df_under.reset_index(drop=True, inplace=True)"
   ]
  },
  {
   "cell_type": "code",
   "execution_count": 14,
   "metadata": {
    "colab": {
     "base_uri": "https://localhost:8080/"
    },
    "id": "dfZ8qv4i4Ms0",
    "outputId": "6eff758c-46e4-4465-e68b-1234fbb8a5bd"
   },
   "outputs": [
    {
     "data": {
      "text/plain": [
       "(6984, 2)"
      ]
     },
     "execution_count": 14,
     "metadata": {},
     "output_type": "execute_result"
    }
   ],
   "source": [
    "# Remoção das entradas duplicadas\n",
    "df_under.drop_duplicates(['text'], inplace=True)\n",
    "df = df_under\n",
    "df.shape"
   ]
  },
  {
   "cell_type": "markdown",
   "metadata": {
    "id": "5Vlv5jUE4HJk"
   },
   "source": [
    "# Pré-Processamento dos Dados:"
   ]
  },
  {
   "cell_type": "code",
   "execution_count": 15,
   "metadata": {
    "id": "-f-lYc26DjeK"
   },
   "outputs": [],
   "source": [
    "# Definição das funções de limpeza de strings\n",
    "\n",
    "def format_string(text):\n",
    "  text = text.lower()\n",
    "  # Remoção de links\n",
    "  formated_text = re.sub(r'http\\S+', '', text)\n",
    "  # Remoção das mentions (eg. @fulanodetal)\n",
    "  formated_text = re.sub(r'@[\\w]* ', '', formated_text)\n",
    "  # Remoção das contrações (eg. I'm --> I am)\n",
    "  formated_text = contractions.fix(formated_text)\n",
    "  # Simplificação do texto\n",
    "  formated_text = re.sub(r'[^a-zA-Z0-9@# ]', '', formated_text)\n",
    "  return (''.join(formated_text)).strip()\n",
    "\n",
    "def remove_stopwords(text, tokenizer):\n",
    "  words = tokenizer.tokenize(text)\n",
    "  newwords = [word for word in words if word not in stopwords.words('english')]\n",
    "  return (' '.join(newwords)).strip()\n",
    "\n",
    "def lemmatize_string(text, lemmatizer):\n",
    "  final_text = ''\n",
    "  for word in text.split(' '):\n",
    "    final_text += lemmatizer.lemmatize(word) + ' '\n",
    "  return final_text\n",
    "\n",
    "def stemming_string(text, stemmer):\n",
    "  final_text = ''\n",
    "  for word in text.split(' '):\n",
    "    final_text += stemmer.stem(word) + ' '\n",
    "  return final_text"
   ]
  },
  {
   "cell_type": "code",
   "execution_count": 16,
   "metadata": {
    "id": "PGZYgd59E-od"
   },
   "outputs": [],
   "source": [
    "# Instanciação das classes exigidas\n",
    "tweet_tokenizer = TweetTokenizer()\n",
    "\n",
    "string_lemmatizer = WordNetLemmatizer()\n",
    "\n",
    "string_stemmer = SnowballStemmer('english')"
   ]
  },
  {
   "cell_type": "code",
   "execution_count": 17,
   "metadata": {
    "id": "dAsKizI162k-"
   },
   "outputs": [],
   "source": [
    "classes, tweets = df['airline_sentiment'], df['text']"
   ]
  },
  {
   "cell_type": "markdown",
   "metadata": {
    "id": "SR4PQsDe6SXM"
   },
   "source": [
    "+ Aplicando formatação nos comentários"
   ]
  },
  {
   "cell_type": "code",
   "execution_count": 18,
   "metadata": {
    "id": "ChIzfxAcWCYF"
   },
   "outputs": [],
   "source": [
    "tweets = tweets.map(format_string)"
   ]
  },
  {
   "cell_type": "markdown",
   "metadata": {
    "id": "c-zH7G3iWHYv"
   },
   "source": [
    "+ Removendo as stopword dos comentários"
   ]
  },
  {
   "cell_type": "code",
   "execution_count": 19,
   "metadata": {
    "id": "_bWyDgOhA7OH"
   },
   "outputs": [],
   "source": [
    "tweets = tweets.map(lambda txt: remove_stopwords(txt, tweet_tokenizer))"
   ]
  },
  {
   "cell_type": "markdown",
   "metadata": {
    "id": "5lnQvQvUDMDW"
   },
   "source": [
    "+ Stemming"
   ]
  },
  {
   "cell_type": "code",
   "execution_count": 20,
   "metadata": {
    "id": "Yz5RYjm3ePMe"
   },
   "outputs": [],
   "source": [
    "tweets = tweets.map(lambda txt: stemming_string(txt, string_stemmer))"
   ]
  },
  {
   "cell_type": "markdown",
   "metadata": {
    "id": "VHholNXfY1mj"
   },
   "source": [
    "+ Lemmatization"
   ]
  },
  {
   "cell_type": "code",
   "execution_count": 21,
   "metadata": {
    "id": "JJ4Xnc41b-__"
   },
   "outputs": [],
   "source": [
    "tweets = tweets.map(lambda txt: lemmatize_string(txt, string_lemmatizer))"
   ]
  },
  {
   "cell_type": "code",
   "execution_count": 22,
   "metadata": {
    "id": "lQSBTroCRrYX"
   },
   "outputs": [],
   "source": [
    "tweets.drop_duplicates(inplace=True)"
   ]
  },
  {
   "cell_type": "markdown",
   "metadata": {
    "id": "hevB3qytPZHb"
   },
   "source": [
    "# Aplicação dos algoritmos"
   ]
  },
  {
   "cell_type": "code",
   "execution_count": 23,
   "metadata": {
    "id": "OKwRcWRX54dG"
   },
   "outputs": [],
   "source": [
    "from sklearn.feature_extraction.text import CountVectorizer\n",
    "# from sklearn.linear_model import PassiveAggressiveClassifier\n",
    "# from sklearn.linear_model import SGDClassifier\n",
    "# from sklearn.naive_bayes import MultinomialNB\n",
    "# from sklearn.linear_model import Perceptron\n",
    "\n",
    "from sklearn.svm import LinearSVC\n",
    "from sklearn.naive_bayes import GaussianNB\n",
    "from sklearn.linear_model import LogisticRegression\n",
    "from sklearn.neural_network import MLPClassifier\n",
    "from sklearn.neighbors import KNeighborsClassifier"
   ]
  },
  {
   "cell_type": "code",
   "execution_count": 24,
   "metadata": {
    "id": "cLUV5DxW7Vsp"
   },
   "outputs": [],
   "source": [
    "processed_df = pd.concat([tweets, classes], axis=1)\n",
    "processed_df.dropna(how='any', inplace=True)"
   ]
  },
  {
   "cell_type": "code",
   "execution_count": 25,
   "metadata": {
    "colab": {
     "base_uri": "https://localhost:8080/",
     "height": 419
    },
    "id": "OnATObG-8mZd",
    "outputId": "25208eef-32de-433e-c6c1-b1228c16bd53"
   },
   "outputs": [
    {
     "data": {
      "text/html": [
       "<div>\n",
       "<style scoped>\n",
       "    .dataframe tbody tr th:only-of-type {\n",
       "        vertical-align: middle;\n",
       "    }\n",
       "\n",
       "    .dataframe tbody tr th {\n",
       "        vertical-align: top;\n",
       "    }\n",
       "\n",
       "    .dataframe thead th {\n",
       "        text-align: right;\n",
       "    }\n",
       "</style>\n",
       "<table border=\"1\" class=\"dataframe\">\n",
       "  <thead>\n",
       "    <tr style=\"text-align: right;\">\n",
       "      <th></th>\n",
       "      <th>text</th>\n",
       "      <th>airline_sentiment</th>\n",
       "    </tr>\n",
       "  </thead>\n",
       "  <tbody>\n",
       "    <tr>\n",
       "      <th>0</th>\n",
       "      <td>i go write post experi custom servic tank #jet...</td>\n",
       "      <td>-1</td>\n",
       "    </tr>\n",
       "    <tr>\n",
       "      <th>1</th>\n",
       "      <td>everi citi nationwid sale fabul fare noth buff...</td>\n",
       "      <td>-1</td>\n",
       "    </tr>\n",
       "    <tr>\n",
       "      <th>2</th>\n",
       "      <td>lost bag flight chi eri land 15 hr agoyet stil...</td>\n",
       "      <td>-1</td>\n",
       "    </tr>\n",
       "    <tr>\n",
       "      <th>3</th>\n",
       "      <td>peopl status get buy upgd much le cost ahead p...</td>\n",
       "      <td>-1</td>\n",
       "    </tr>\n",
       "    <tr>\n",
       "      <th>4</th>\n",
       "      <td>flt 1249 cancel flightl get email @330 happen ...</td>\n",
       "      <td>-1</td>\n",
       "    </tr>\n",
       "    <tr>\n",
       "      <th>...</th>\n",
       "      <td>...</td>\n",
       "      <td>...</td>\n",
       "    </tr>\n",
       "    <tr>\n",
       "      <th>7083</th>\n",
       "      <td>love compani staff amaz made uncomfort situat ...</td>\n",
       "      <td>1</td>\n",
       "    </tr>\n",
       "    <tr>\n",
       "      <th>7084</th>\n",
       "      <td>love new plane jfklax run mayb one day one ame...</td>\n",
       "      <td>1</td>\n",
       "    </tr>\n",
       "    <tr>\n",
       "      <th>7085</th>\n",
       "      <td>flight 236 great fantast cabin crew land #than...</td>\n",
       "      <td>1</td>\n",
       "    </tr>\n",
       "    <tr>\n",
       "      <th>7086</th>\n",
       "      <td>thank @americanair custom relat review concern...</td>\n",
       "      <td>1</td>\n",
       "    </tr>\n",
       "    <tr>\n",
       "      <th>7088</th>\n",
       "      <td>thank got differ flight chicago</td>\n",
       "      <td>1</td>\n",
       "    </tr>\n",
       "  </tbody>\n",
       "</table>\n",
       "<p>6711 rows × 2 columns</p>\n",
       "</div>"
      ],
      "text/plain": [
       "                                                   text  airline_sentiment\n",
       "0     i go write post experi custom servic tank #jet...                 -1\n",
       "1     everi citi nationwid sale fabul fare noth buff...                 -1\n",
       "2     lost bag flight chi eri land 15 hr agoyet stil...                 -1\n",
       "3     peopl status get buy upgd much le cost ahead p...                 -1\n",
       "4     flt 1249 cancel flightl get email @330 happen ...                 -1\n",
       "...                                                 ...                ...\n",
       "7083  love compani staff amaz made uncomfort situat ...                  1\n",
       "7084  love new plane jfklax run mayb one day one ame...                  1\n",
       "7085  flight 236 great fantast cabin crew land #than...                  1\n",
       "7086  thank @americanair custom relat review concern...                  1\n",
       "7088                  thank got differ flight chicago                    1\n",
       "\n",
       "[6711 rows x 2 columns]"
      ]
     },
     "execution_count": 25,
     "metadata": {},
     "output_type": "execute_result"
    }
   ],
   "source": [
    "# Visão geral do DataFrame\n",
    "processed_df"
   ]
  },
  {
   "cell_type": "code",
   "execution_count": 26,
   "metadata": {
    "id": "lFnykGDtPaid"
   },
   "outputs": [],
   "source": [
    "vectorizer = CountVectorizer(analyzer=\"word\", tokenizer=tweet_tokenizer.tokenize)"
   ]
  },
  {
   "cell_type": "markdown",
   "metadata": {
    "id": "qlQEBCPFADm5"
   },
   "source": [
    "+ Dados vetorizados"
   ]
  },
  {
   "cell_type": "code",
   "execution_count": 27,
   "metadata": {
    "colab": {
     "base_uri": "https://localhost:8080/"
    },
    "id": "z8Pxvs7W50sf",
    "outputId": "d5fb1282-10df-4d83-859b-6d1d9b61adc2"
   },
   "outputs": [
    {
     "data": {
      "text/plain": [
       "(6711, 7973)"
      ]
     },
     "execution_count": 27,
     "metadata": {},
     "output_type": "execute_result"
    }
   ],
   "source": [
    "freq_tweets = vectorizer.fit_transform(processed_df['text'])\n",
    "freq_tweets.shape"
   ]
  },
  {
   "cell_type": "markdown",
   "metadata": {
    "id": "GPAaZqRAAG0h"
   },
   "source": [
    "+ Separação em conjunto de treinamento e teste"
   ]
  },
  {
   "cell_type": "code",
   "execution_count": 30,
   "metadata": {
    "id": "QkOZaaW-Qqtj"
   },
   "outputs": [
    {
     "data": {
      "text/plain": [
       "2083   -1\n",
       "6314    1\n",
       "3439    0\n",
       "5876    1\n",
       "1799   -1\n",
       "       ..\n",
       "3863    0\n",
       "5388    1\n",
       "5426    1\n",
       "5602    1\n",
       "863    -1\n",
       "Name: airline_sentiment, Length: 4496, dtype: int32"
      ]
     },
     "execution_count": 30,
     "metadata": {},
     "output_type": "execute_result"
    }
   ],
   "source": [
    "X_train, X_test, y_train, y_test = \\\n",
    "  train_test_split(freq_tweets,\n",
    "                   processed_df['airline_sentiment'],\n",
    "                   test_size=0.33, \n",
    "                   random_state=42)\n",
    "y_train"
   ]
  },
  {
   "cell_type": "markdown",
   "metadata": {
    "id": "Nm3wWwulduD4"
   },
   "source": [
    "+ Testando múltiplos algoritmos"
   ]
  },
  {
   "cell_type": "code",
   "execution_count": 28,
   "metadata": {
    "colab": {
     "base_uri": "https://localhost:8080/"
    },
    "id": "yYk-MPuBcNFf",
    "outputId": "89827c9e-a3b4-4e24-eca5-31e21ea025e4"
   },
   "outputs": [
    {
     "name": "stdout",
     "output_type": "stream",
     "text": [
      "Linear SVC done\n",
      "Logistic Regression done\n",
      "Multi-Layered Perceptron done\n",
      "KNN done\n",
      "model                            | accuracy       \n",
      "------------------------------\n",
      "Linear SVC                       | 0.67872\n",
      "Logistic Regression              | 0.70312\n",
      "Multi-Layered Perceptron         | 0.63037\n",
      "KNN                              | 0.48441\n"
     ]
    }
   ],
   "source": [
    "#BA = Basic Algorithms\n",
    "classificadores_BA = {\n",
    "    'Linear SVC': LinearSVC(random_state=0, tol=1e-5),\n",
    "    'Logistic Regression':LogisticRegression(random_state=0, max_iter=1000),\n",
    "    'Multi-Layered Perceptron':MLPClassifier(random_state=1, max_iter=300),\n",
    "    'KNN':KNeighborsClassifier(n_neighbors=3)\n",
    "}\n",
    "\n",
    "cls_stats_BA = {}\n",
    "\n",
    "for model in classificadores_BA:\n",
    "    cls_stats_BA[model] = 0.0\n",
    "\n",
    "for model, cls in classificadores_BA.items():\n",
    "        cls.fit(X_train, y_train)\n",
    "        cls_stats_BA[model] = cls.score(X_test, y_test)\n",
    "        print(f'{model} done')\n",
    "\n",
    "# Resultado do modelos -- acurácia bruta\n",
    "print(f'{\"model\":<32} | {\"accuracy\":<15}\\n{\"-\"*30}')\n",
    "for model in cls_stats_BA:\n",
    "  accuracy = cls_stats_BA[model]\n",
    "  print(f'{model:<32} | {accuracy:<1.5f}')\n",
    "    \n",
    "cls_stats_BA_save = cls_stats_BA"
   ]
  },
  {
   "cell_type": "code",
   "execution_count": 29,
   "metadata": {
    "colab": {
     "base_uri": "https://localhost:8080/",
     "height": 336
    },
    "id": "33sFx1C1kX8A",
    "outputId": "1949afbb-1656-416a-a4d3-6844d8e28d36"
   },
   "outputs": [
    {
     "data": {
      "image/png": "[encoded data removed]",
      "text/plain": [
       "<Figure size 720x360 with 1 Axes>"
      ]
     },
     "metadata": {
      "needs_background": "light"
     },
     "output_type": "display_data"
    }
   ],
   "source": [
    "fig, ax = plt.subplots(figsize=(10, 5))\n",
    "y_values = list(cls_stats_BA.values())\n",
    "# ymin = min(y_values) * .997\n",
    "# ymax = max(y_values) * 1.002\n",
    "ax.bar(list(cls_stats_BA.keys()), y_values, width=0.35)\n",
    "# ax.set_ylim(ymin, ymax)\n",
    "ax.set_title('Acurácia dos modelos')\n",
    "plt.show()"
   ]
  },
  {
   "cell_type": "markdown",
   "metadata": {
    "id": "OGpEpzxBANFK"
   },
   "source": [
    "+ Teste do modelo"
   ]
  },
  {
   "cell_type": "code",
   "execution_count": 30,
   "metadata": {
    "id": "NyeFBRI2Sjss"
   },
   "outputs": [],
   "source": [
    "from sklearn.model_selection import GridSearchCV"
   ]
  },
  {
   "cell_type": "code",
   "execution_count": 31,
   "metadata": {
    "id": "Q259qs1kQ13D"
   },
   "outputs": [],
   "source": [
    "solvers = ['newton-cg', 'lbfgs', 'liblinear']\n",
    "penalty = ['l2']\n",
    "c_values = np.logspace(-4, 4, 20)\n",
    "max_iter = [1000, 1500, 2000]\n",
    "tol = [0.0001, 0.001, 0.01]\n",
    "\n",
    "grid = dict(solver=solvers,\n",
    "            penalty=penalty,\n",
    "            C=c_values,\n",
    "            max_iter=max_iter,\n",
    "            tol=tol)\n",
    "\n",
    "LR = LogisticRegression(random_state=0, n_jobs=-1)\n",
    "\n",
    "clf = GridSearchCV(LR, grid, scoring='accuracy', n_jobs=-1)"
   ]
  },
  {
   "cell_type": "code",
   "execution_count": 32,
   "metadata": {
    "colab": {
     "base_uri": "https://localhost:8080/"
    },
    "id": "B77faeQFTHXR",
    "outputId": "ace61ff7-bd3c-41a2-8069-56eefab4a82c"
   },
   "outputs": [
    {
     "name": "stderr",
     "output_type": "stream",
     "text": [
      "D:\\Anaconda\\lib\\site-packages\\sklearn\\linear_model\\_logistic.py:1355: UserWarning: 'n_jobs' > 1 does not have any effect when 'solver' is set to 'liblinear'. Got 'n_jobs' = 4.\n",
      "  warnings.warn(\"'n_jobs' > 1 does not have any effect when\"\n"
     ]
    },
    {
     "data": {
      "text/plain": [
       "GridSearchCV(estimator=LogisticRegression(n_jobs=-1, random_state=0), n_jobs=-1,\n",
       "             param_grid={'C': array([1.00000000e-04, 2.63665090e-04, 6.95192796e-04, 1.83298071e-03,\n",
       "       4.83293024e-03, 1.27427499e-02, 3.35981829e-02, 8.85866790e-02,\n",
       "       2.33572147e-01, 6.15848211e-01, 1.62377674e+00, 4.28133240e+00,\n",
       "       1.12883789e+01, 2.97635144e+01, 7.84759970e+01, 2.06913808e+02,\n",
       "       5.45559478e+02, 1.43844989e+03, 3.79269019e+03, 1.00000000e+04]),\n",
       "                         'max_iter': [1000, 1500, 2000], 'penalty': ['l2'],\n",
       "                         'solver': ['newton-cg', 'lbfgs', 'liblinear'],\n",
       "                         'tol': [0.0001, 0.001, 0.01]},\n",
       "             scoring='accuracy')"
      ]
     },
     "execution_count": 32,
     "metadata": {},
     "output_type": "execute_result"
    }
   ],
   "source": [
    "clf.fit(X_train, y_train)"
   ]
  },
  {
   "cell_type": "code",
   "execution_count": 33,
   "metadata": {
    "colab": {
     "base_uri": "https://localhost:8080/"
    },
    "id": "rUfEi7G7yaDW",
    "outputId": "b1aa56cf-a35e-4761-e41c-f11865f04142"
   },
   "outputs": [
    {
     "data": {
      "text/plain": [
       "LogisticRegression(C=0.615848211066026, max_iter=1000, n_jobs=-1,\n",
       "                   random_state=0, solver='liblinear', tol=0.01)"
      ]
     },
     "execution_count": 33,
     "metadata": {},
     "output_type": "execute_result"
    }
   ],
   "source": [
    "clf.best_estimator_"
   ]
  },
  {
   "cell_type": "code",
   "execution_count": 34,
   "metadata": {
    "colab": {
     "base_uri": "https://localhost:8080/"
    },
    "id": "n22j3DrwydDG",
    "outputId": "e4813b4a-d465-46cf-d148-eb1b10c8f9b0"
   },
   "outputs": [
    {
     "name": "stdout",
     "output_type": "stream",
     "text": [
      "LR acurácia: 0.7088804437496747\n"
     ]
    }
   ],
   "source": [
    "print(f'LR acurácia: {clf.best_score_}')"
   ]
  },
  {
   "cell_type": "markdown",
   "metadata": {
    "id": "ft1TkqLE4rxG"
   },
   "source": [
    "+ Treinamento do modelo por cross-validation"
   ]
  },
  {
   "cell_type": "code",
   "execution_count": 35,
   "metadata": {
    "id": "AoKP8jth2hf2"
   },
   "outputs": [],
   "source": [
    "from sklearn.model_selection import cross_validate"
   ]
  },
  {
   "cell_type": "code",
   "execution_count": 36,
   "metadata": {
    "id": "HNVxivEt5R3B"
   },
   "outputs": [],
   "source": [
    "classificadores_BA = {\n",
    "    'Linear SVC': LinearSVC(random_state=0, tol=1e-5),\n",
    "    'Logistic Regression':LogisticRegression(random_state=0, max_iter=1000),\n",
    "    'Multi-Layered Perceptron':MLPClassifier(random_state=1, max_iter=300),\n",
    "    'KNN':KNeighborsClassifier(n_neighbors=3)\n",
    "}\n",
    "\n",
    "cv_result_BA = {}\n",
    "\n",
    "for model in classificadores_BA:\n",
    "  cv_result_BA[model] = []\n",
    "\n",
    "for model in classificadores_BA:\n",
    "  cv_result_BA[model] = cross_validate(classificadores_BA[model],\n",
    "                                    X=freq_tweets,\n",
    "                                    y=processed_df['airline_sentiment'],\n",
    "                                    cv=10,\n",
    "                                    scoring='accuracy',\n",
    "                                    return_estimator=True)"
   ]
  },
  {
   "cell_type": "markdown",
   "metadata": {
    "id": "crpe77PJDtYM"
   },
   "source": [
    "+ Valores de acurácia dos modelos via Cross Validation"
   ]
  },
  {
   "cell_type": "code",
   "execution_count": 37,
   "metadata": {
    "id": "eGrcKTFQRAWa"
   },
   "outputs": [],
   "source": [
    "accuracy_values_BA = []\n",
    "fit_time_values_BA = []\n",
    "score_time_values_BA = []\n",
    "\n",
    "for cls in cv_result_BA:\n",
    "  accuracy_values_BA.append(cv_result_BA[cls][\"test_score\"])\n",
    "  score_time_values_BA.append(cv_result_BA[cls][\"score_time\"])\n",
    "  fit_time_values_BA.append(cv_result_BA[cls][\"fit_time\"])"
   ]
  },
  {
   "cell_type": "code",
   "execution_count": 38,
   "metadata": {
    "colab": {
     "base_uri": "https://localhost:8080/",
     "height": 281
    },
    "id": "zm3FSmxcEbof",
    "outputId": "f02661dd-7881-49dd-d293-79812533af72"
   },
   "outputs": [
    {
     "data": {
      "image/png": "[encoded data removed]",
      "text/plain": [
       "<Figure size 576x288 with 1 Axes>"
      ]
     },
     "metadata": {
      "needs_background": "light"
     },
     "output_type": "display_data"
    },
    {
     "name": "stdout",
     "output_type": "stream",
     "text": [
      "acurácia média nos testes:\n",
      "\n",
      "Linear SVC                  0.690126\n",
      "Logistic Regression         0.713092\n",
      "Multi-Layered Perceptron    0.636585\n",
      "KNN                         0.467345\n",
      "dtype: float64\n"
     ]
    }
   ],
   "source": [
    "fig, ax = plt.subplots(figsize=(8,4))\n",
    "ax.boxplot(accuracy_values_BA)\n",
    "ax.set_xticklabels(cv_result_BA.keys())\n",
    "ax.set_title('Acurácia dos modelos via CV')\n",
    "plt.show()\n",
    "\n",
    "meanAcurracy = pd.DataFrame\\\n",
    "            (list(zip(accuracy_values_BA[0],accuracy_values_BA[1],accuracy_values_BA[2],accuracy_values_BA[3])),\\\n",
    "            columns = ['Linear SVC','Logistic Regression','Multi-Layered Perceptron','KNN'])\n",
    "print(f'acurácia média nos testes:\\n\\n{meanAcurracy.mean()}')"
   ]
  },
  {
   "cell_type": "code",
   "execution_count": 39,
   "metadata": {},
   "outputs": [
    {
     "data": {
      "image/png": "[encoded data removed]",
      "text/plain": [
       "<Figure size 720x288 with 1 Axes>"
      ]
     },
     "metadata": {
      "needs_background": "light"
     },
     "output_type": "display_data"
    },
    {
     "name": "stdout",
     "output_type": "stream",
     "text": [
      "tempo médio de treino:\n",
      "\n",
      "Linear SVC                    0.252818\n",
      "Logistic Regression           0.583344\n",
      "Multi-Layered Perceptron    197.632426\n",
      "KNN                           0.002101\n",
      "dtype: float64\n"
     ]
    }
   ],
   "source": [
    "fig, ax = plt.subplots(figsize=(10,4))\n",
    "ax.boxplot(fit_time_values_BA)\n",
    "ax.set_xticklabels(cv_result_BA.keys())\n",
    "ax.set_title('Tempo para treinar os modelos via CV')\n",
    "plt.show()\n",
    "meanTimeTrain = pd.DataFrame\\\n",
    "            (list(zip(fit_time_values_BA[0],fit_time_values_BA[1],fit_time_values_BA[2],fit_time_values_BA[3])),\\\n",
    "            columns = ['Linear SVC','Logistic Regression','Multi-Layered Perceptron','KNN'])\n",
    "print(f'tempo médio de treino:\\n\\n{meanTimeTrain.mean()}')"
   ]
  },
  {
   "cell_type": "code",
   "execution_count": 40,
   "metadata": {},
   "outputs": [
    {
     "data": {
      "image/png": "[encoded data removed]",
      "text/plain": [
       "<Figure size 576x288 with 1 Axes>"
      ]
     },
     "metadata": {
      "needs_background": "light"
     },
     "output_type": "display_data"
    },
    {
     "name": "stdout",
     "output_type": "stream",
     "text": [
      "tempo médio de teste:\n",
      "\n",
      "Linear SVC                  0.000800\n",
      "Logistic Regression         0.000700\n",
      "Multi-Layered Perceptron    0.001900\n",
      "KNN                         0.111408\n",
      "dtype: float64\n"
     ]
    }
   ],
   "source": [
    "fig, ax = plt.subplots(figsize=(8,4))\n",
    "ax.boxplot(score_time_values_BA)\n",
    "ax.set_xticklabels(cv_result_BA.keys())\n",
    "ax.set_title('Tempo para testar os modelos via CV')\n",
    "plt.show()\n",
    "\n",
    "\n",
    "meanTimeTest = pd.DataFrame\\\n",
    "            (list(zip(score_time_values_BA[0],score_time_values_BA[1],score_time_values_BA[2],score_time_values_BA[3])),\\\n",
    "            columns = ['Linear SVC','Logistic Regression','Multi-Layered Perceptron','KNN'])\n",
    "print(f'tempo médio de teste:\\n\\n{meanTimeTest.mean()}')"
   ]
  },
  {
   "cell_type": "code",
   "execution_count": 41,
   "metadata": {
    "colab": {
     "base_uri": "https://localhost:8080/"
    },
    "id": "2FVCc3QEFTFe",
    "outputId": "5da0157c-7df9-422e-cee2-b188511f5756"
   },
   "outputs": [
    {
     "name": "stdout",
     "output_type": "stream",
     "text": [
      "model                            | accuracy       \n",
      "-------------------------------------------\n",
      "Linear SVC                       | 0.69013\n",
      "Logistic Regression              | 0.71309\n",
      "Multi-Layered Perceptron         | 0.63659\n",
      "KNN                              | 0.46734\n"
     ]
    }
   ],
   "source": [
    "# Resultado do modelos -- acurácia no cross validation\n",
    "actual = 0\n",
    "print(f'{\"model\":<32} | {\"accuracy\":<15}\\n{\"-\"*43}')\n",
    "for cls in cv_result_BA:\n",
    "  accuracy = cv_result_BA[cls][\"test_score\"].mean()\n",
    "  print(f'{cls:<32} | {accuracy:<1.5f}')\n",
    "  if (actual < accuracy) :\n",
    "    cv_result_BA_best_estimator = cv_result_BA[cls]['estimator'][0]"
   ]
  },
  {
   "cell_type": "markdown",
   "metadata": {
    "id": "IEGxXoSYJpzy"
   },
   "source": [
    "+ Matriz de confusão para modelo treinado em Holdout"
   ]
  },
  {
   "cell_type": "code",
   "execution_count": 42,
   "metadata": {
    "id": "GkJksCHFXdI9"
   },
   "outputs": [],
   "source": [
    "from sklearn.metrics import plot_confusion_matrix"
   ]
  },
  {
   "cell_type": "code",
   "execution_count": 43,
   "metadata": {},
   "outputs": [
    {
     "name": "stdout",
     "output_type": "stream",
     "text": [
      "LinearSVC(random_state=0, tol=1e-05)\n",
      "LogisticRegression(max_iter=1000, random_state=0)\n",
      "MLPClassifier(max_iter=300, random_state=1)\n",
      "KNeighborsClassifier(n_neighbors=3)\n"
     ]
    }
   ],
   "source": [
    "#print(cv_result_BA)\n",
    "for cls in cv_result_BA:\n",
    "    print(cv_result_BA[cls]['estimator'][0])"
   ]
  },
  {
   "cell_type": "code",
   "execution_count": 48,
   "metadata": {
    "colab": {
     "base_uri": "https://localhost:8080/",
     "height": 279
    },
    "id": "faGkQYJZXlUx",
    "outputId": "c8ad9757-37b3-4523-f2ff-68b61e62d9e1"
   },
   "outputs": [
    {
     "data": {
      "image/png": "[encoded data removed]",
      "text/plain": [
       "<Figure size 864x864 with 8 Axes>"
      ]
     },
     "metadata": {
      "needs_background": "light"
     },
     "output_type": "display_data"
    }
   ],
   "source": [
    "fig, axs = plt.subplots(2, 2, figsize=(12, 12))\n",
    "\n",
    "for i, clf in enumerate(cv_result_BA):\n",
    "  x = i//2\n",
    "  y = i%2\n",
    "  axs[x, y].set_title(clf)\n",
    "  cv_model = cv_result_BA[clf]['estimator'][0]\n",
    "  plot_confusion_matrix(cv_model, X_test, y_test, normalize='true', ax=axs[x, y])\n",
    "\n",
    "plt.show() "
   ]
  },
  {
   "cell_type": "markdown",
   "metadata": {},
   "source": [
    "+ Aplicando alguns algoritmos avançados"
   ]
  },
  {
   "cell_type": "code",
   "execution_count": 53,
   "metadata": {},
   "outputs": [],
   "source": [
    "from sklearn.ensemble import RandomForestClassifier\n",
    "from sklearn.ensemble import AdaBoostClassifier\n",
    "from sklearn.ensemble import GradientBoostingClassifier"
   ]
  },
  {
   "cell_type": "code",
   "execution_count": 54,
   "metadata": {},
   "outputs": [
    {
     "name": "stdout",
     "output_type": "stream",
     "text": [
      "model                            | accuracy       \n",
      "------------------------------\n",
      "Random Forest                    | 0.53909\n",
      "AdaBoost                         | 0.67375\n",
      "XGBoost                          | 0.68233\n"
     ]
    }
   ],
   "source": [
    "#AA = Advanced Algorithm\n",
    "classificadores_AA = {\n",
    "    'Random Forest': RandomForestClassifier(max_depth=2, random_state=0),\n",
    "    'AdaBoost': AdaBoostClassifier(n_estimators=100, random_state=0),\n",
    "    'XGBoost': GradientBoostingClassifier(n_estimators=100, learning_rate=1.0,max_depth=1, random_state=0),\n",
    "}\n",
    "\n",
    "cls_stats_AA = {}\n",
    "\n",
    "for model in classificadores_AA:\n",
    "    cls_stats_AA[model] = 0.0\n",
    "\n",
    "for model, cls in classificadores_AA.items():\n",
    "        cls.fit(X_train, y_train)\n",
    "        cls_stats_AA[model] = cls.score(X_test, y_test)\n",
    "        #print(f'{model} done')\n",
    "\n",
    "# Resultado do modelos - acurácia bruta\n",
    "print(f'{\"model\":<32} | {\"accuracy\":<15}\\n{\"-\"*30}')\n",
    "for model in cls_stats_AA:\n",
    "  accuracy = cls_stats_AA[model]\n",
    "  print(f'{model:<32} | {accuracy:<1.5f}')\n",
    "        "
   ]
  },
  {
   "cell_type": "code",
   "execution_count": 55,
   "metadata": {},
   "outputs": [],
   "source": [
    "clsvalues = []\n",
    "for model in cls_stats_BA_save:\n",
    "    aux = cls_stats_BA_save[model]\n",
    "    clsvalues.append(aux)\n",
    "for model in cls_stats_AA:\n",
    "    aux = cls_stats_AA[model]\n",
    "    clsvalues.append(aux)\n",
    "aux1 = list(cls_stats_BA_save.keys())\n",
    "aux2 = list(cls_stats_AA.keys())\n",
    "df = pd.Series((v for v in aux1))\n",
    "df2 = pd.Series((v for v in aux2), index=[4, 5, 6])\n",
    "df = df.append(df2)"
   ]
  },
  {
   "cell_type": "code",
   "execution_count": 56,
   "metadata": {},
   "outputs": [
    {
     "data": {
      "image/png": "[encoded data removed]",
      "text/plain": [
       "<Figure size 1080x360 with 1 Axes>"
      ]
     },
     "metadata": {
      "needs_background": "light"
     },
     "output_type": "display_data"
    },
    {
     "name": "stdout",
     "output_type": "stream",
     "text": [
      "Linear SVC 0.6787\n",
      "Logistic Regression 0.7031\n",
      "Multi-Layered Perceptron 0.6304\n",
      "KNN 0.4844\n",
      "Random Forest 0.5391\n",
      "AdaBoost 0.6737\n",
      "XGBoost 0.6823\n"
     ]
    }
   ],
   "source": [
    "fig, ax = plt.subplots(figsize=(15, 5))\n",
    "y_values = clsvalues\n",
    "ax.bar(df, y_values, width=0.55)\n",
    "ax.set_title('Acurácia dos modelos')\n",
    "plt.show()\n",
    "i = 0\n",
    "for model in df:\n",
    "    print(model,f'{clsvalues[i]:.4f}')\n",
    "    i+=1"
   ]
  },
  {
   "cell_type": "code",
   "execution_count": 57,
   "metadata": {},
   "outputs": [],
   "source": [
    "classificadores_AA = {\n",
    "    'Random Forest': RandomForestClassifier(max_depth=2, random_state=0),\n",
    "    'AdaBoost':AdaBoostClassifier(n_estimators=100, random_state=0),\n",
    "    'XGBoost': GradientBoostingClassifier(n_estimators=100, learning_rate=1.0,max_depth=1, random_state=0),\n",
    "}\n",
    "\n",
    "cv_result_AA = {}\n",
    "\n",
    "for model in classificadores_AA:\n",
    "  cv_result_AA[model] = []\n",
    "\n",
    "for model in classificadores_AA:\n",
    "  cv_result_AA[model] = cross_validate(classificadores_AA[model],\n",
    "                                    X=freq_tweets,\n",
    "                                    y=processed_df['airline_sentiment'],\n",
    "                                    cv=10,\n",
    "                                    scoring='accuracy',\n",
    "                                    return_estimator=True)"
   ]
  },
  {
   "cell_type": "code",
   "execution_count": 58,
   "metadata": {},
   "outputs": [],
   "source": [
    "accuracy_values_AA = []\n",
    "fit_time_values_AA = []\n",
    "score_time_values_AA = []\n",
    "\n",
    "for cls in cv_result_AA:\n",
    "  accuracy_values_AA.append(cv_result_AA[cls][\"test_score\"])\n",
    "  score_time_values_AA.append(cv_result_AA[cls][\"score_time\"])\n",
    "  fit_time_values_AA.append(cv_result_AA[cls][\"fit_time\"])"
   ]
  },
  {
   "cell_type": "code",
   "execution_count": 59,
   "metadata": {},
   "outputs": [
    {
     "data": {
      "image/png": "[encoded data removed]",
      "text/plain": [
       "<Figure size 720x288 with 1 Axes>"
      ]
     },
     "metadata": {
      "needs_background": "light"
     },
     "output_type": "display_data"
    },
    {
     "name": "stdout",
     "output_type": "stream",
     "text": [
      "acurácia média nos testes:\n",
      "\n",
      "Random Forest    0.403964\n",
      "AdaBoost         0.677461\n",
      "XGBoost          0.698334\n",
      "dtype: float64\n"
     ]
    }
   ],
   "source": [
    "fig, ax = plt.subplots(figsize=(10,4))\n",
    "ax.boxplot(accuracy_values_AA)\n",
    "ax.set_xticklabels(cv_result_AA.keys())\n",
    "ax.set_title('Acurácia dos modelos via CV')\n",
    "plt.show()\n",
    "\n",
    "meanAccuracy = pd.DataFrame\\\n",
    "            (list(zip(accuracy_values_AA[0],accuracy_values_AA[1],accuracy_values_AA[2])),\\\n",
    "            columns = ['Random Forest','AdaBoost','XGBoost'])\n",
    "print(f'acurácia média nos testes:\\n\\n{meanAccuracy.mean()}')"
   ]
  },
  {
   "cell_type": "code",
   "execution_count": 60,
   "metadata": {},
   "outputs": [
    {
     "data": {
      "image/png": "[encoded data removed]",
      "text/plain": [
       "<Figure size 720x288 with 1 Axes>"
      ]
     },
     "metadata": {
      "needs_background": "light"
     },
     "output_type": "display_data"
    },
    {
     "name": "stdout",
     "output_type": "stream",
     "text": [
      "tempo médio de treino:\n",
      "\n",
      "Random Forest     0.310022\n",
      "AdaBoost          6.469383\n",
      "XGBoost          19.365944\n",
      "dtype: float64\n"
     ]
    }
   ],
   "source": [
    "fig, ax = plt.subplots(figsize=(10,4))\n",
    "ax.boxplot(fit_time_values_AA)\n",
    "ax.set_xticklabels(cv_result_AA.keys())\n",
    "ax.set_title('Tempo para treinar os modelos via CV')\n",
    "plt.show()\n",
    "meanTimeTrain = pd.DataFrame\\\n",
    "            (list(zip(fit_time_values_AA[0],fit_time_values_AA[1],fit_time_values_AA[2])),\\\n",
    "            columns = ['Random Forest','AdaBoost','XGBoost'])\n",
    "print(f'tempo médio de treino:\\n\\n{meanTimeTrain.mean()}')"
   ]
  },
  {
   "cell_type": "code",
   "execution_count": 61,
   "metadata": {},
   "outputs": [
    {
     "data": {
      "image/png": "[encoded data removed]",
      "text/plain": [
       "<Figure size 576x288 with 1 Axes>"
      ]
     },
     "metadata": {
      "needs_background": "light"
     },
     "output_type": "display_data"
    },
    {
     "name": "stdout",
     "output_type": "stream",
     "text": [
      "tempo médio de teste:\n",
      "\n",
      "Random Forest    0.015501\n",
      "AdaBoost         0.029602\n",
      "XGBoost          0.002600\n",
      "dtype: float64\n"
     ]
    }
   ],
   "source": [
    "fig, ax = plt.subplots(figsize=(8,4))\n",
    "ax.boxplot(score_time_values_AA)\n",
    "ax.set_xticklabels(cv_result_AA.keys())\n",
    "ax.set_title('Tempo para testar os modelos via CV')\n",
    "plt.show()\n",
    "\n",
    "meanTimeTest = pd.DataFrame\\\n",
    "            (list(zip(score_time_values_AA[0],score_time_values_AA[1],score_time_values_AA[2])),\\\n",
    "            columns = ['Random Forest','AdaBoost','XGBoost'])\n",
    "print(f'tempo médio de teste:\\n\\n{meanTimeTest.mean()}')"
   ]
  },
  {
   "cell_type": "code",
   "execution_count": 62,
   "metadata": {},
   "outputs": [
    {
     "name": "stdout",
     "output_type": "stream",
     "text": [
      "model                            | accuracy       \n",
      "-------------------------------------------\n",
      "Random Forest                    | 0.40396\n",
      "AdaBoost                         | 0.67746\n",
      "XGBoost                          | 0.69833\n"
     ]
    }
   ],
   "source": [
    "# Resultado do modelos -- acurácia no cross validation\n",
    "actual = 0\n",
    "print(f'{\"model\":<32} | {\"accuracy\":<15}\\n{\"-\"*43}')\n",
    "for cls in cv_result_AA:\n",
    "  accuracy = cv_result_AA[cls][\"test_score\"].mean()\n",
    "  print(f'{cls:<32} | {accuracy:<1.5f}')\n",
    "  if (actual < accuracy) :\n",
    "    cv_result_AA_best_estimator = cv_result_AA[cls]['estimator'][0]"
   ]
  },
  {
   "cell_type": "code",
   "execution_count": null,
   "metadata": {},
   "outputs": [],
   "source": [
    "fig, axs = plt.subplots(1, 3, figsize=(18, 5))\n",
    "\n",
    "for i, clf in enumerate(cv_result_AA):\n",
    "  axs[i].set_title(clf)\n",
    "  cv_model = cv_result_AA[clf]['estimator'][0]\n",
    "  plot_confusion_matrix(cv_model, X_test, y_test, normalize='true', ax=axs[i])\n",
    "\n",
    "plt.show() "
   ]
  }
 ],
 "metadata": {
  "colab": {
   "collapsed_sections": [],
   "name": "Análise de Sentimentos do Twitter - Airlines.ipynb",
   "provenance": []
  },
  "kernelspec": {
   "display_name": "Python 3",
   "language": "python",
   "name": "python3"
  },
  "language_info": {
   "codemirror_mode": {
    "name": "ipython",
    "version": 3
   },
   "file_extension": ".py",
   "mimetype": "text/x-python",
   "name": "python",
   "nbconvert_exporter": "python",
   "pygments_lexer": "ipython3",
   "version": "3.8.8"
  }
 },
 "nbformat": 4,
 "nbformat_minor": 1
}
